{
 "cells": [
  {
   "cell_type": "code",
   "execution_count": 75,
   "id": "071a7e64",
   "metadata": {},
   "outputs": [],
   "source": [
    "import langchain"
   ]
  },
  {
   "cell_type": "code",
   "execution_count": 76,
   "id": "a9f9eb01",
   "metadata": {},
   "outputs": [
    {
     "data": {
      "text/plain": [
       "True"
      ]
     },
     "execution_count": 76,
     "metadata": {},
     "output_type": "execute_result"
    }
   ],
   "source": [
    "from dotenv import load_dotenv\n",
    "load_dotenv() "
   ]
  },
  {
   "cell_type": "code",
   "execution_count": 77,
   "id": "6ed2ba99",
   "metadata": {},
   "outputs": [],
   "source": [
    "import os"
   ]
  },
  {
   "cell_type": "code",
   "execution_count": 78,
   "id": "3e2a4b65",
   "metadata": {},
   "outputs": [],
   "source": [
    "HUGGINGFACEHUB_API_TOKEN=os.getenv(\"HUGGINGFACEHUB_API_TOKEN\")"
   ]
  },
  {
   "cell_type": "code",
   "execution_count": 56,
   "id": "01ccbf55",
   "metadata": {},
   "outputs": [],
   "source": [
    "# OPENAI_API_KEY=os.getenv(\"openai_api\")"
   ]
  },
  {
   "cell_type": "code",
   "execution_count": 57,
   "id": "90b3c2b4",
   "metadata": {},
   "outputs": [],
   "source": [
    "# gemini_api_key=os.getenv(\"gemini_api_key\")"
   ]
  },
  {
   "cell_type": "code",
   "execution_count": 58,
   "id": "8732b7dc",
   "metadata": {},
   "outputs": [],
   "source": [
    "# open ai with lagchain"
   ]
  },
  {
   "cell_type": "code",
   "execution_count": 59,
   "id": "84d510be",
   "metadata": {},
   "outputs": [],
   "source": [
    "# import openai"
   ]
  },
  {
   "cell_type": "code",
   "execution_count": 60,
   "id": "f972abab",
   "metadata": {},
   "outputs": [],
   "source": [
    "# from langchain.llms import OpenAI"
   ]
  },
  {
   "cell_type": "code",
   "execution_count": 61,
   "id": "f1e0e4b1",
   "metadata": {},
   "outputs": [],
   "source": [
    "# llm=OpenAI()"
   ]
  },
  {
   "cell_type": "code",
   "execution_count": 62,
   "id": "5fd6b494",
   "metadata": {},
   "outputs": [],
   "source": [
    "text = \"Can you tell me about the langchain\""
   ]
  },
  {
   "cell_type": "code",
   "execution_count": 63,
   "id": "f35ea3af",
   "metadata": {},
   "outputs": [],
   "source": [
    "# print(llm.predict(text))"
   ]
  },
  {
   "cell_type": "code",
   "execution_count": 79,
   "id": "df7992db",
   "metadata": {},
   "outputs": [],
   "source": [
    "from langchain import HuggingFaceHub"
   ]
  },
  {
   "cell_type": "code",
   "execution_count": 80,
   "id": "5ccb9221",
   "metadata": {},
   "outputs": [],
   "source": [
    "llm1=HuggingFaceHub(huggingfacehub_api_token=HUGGINGFACEHUB_API_TOKEN,repo_id=\"google/gemma-7b\")"
   ]
  },
  {
   "cell_type": "code",
   "execution_count": 96,
   "id": "412986a5",
   "metadata": {},
   "outputs": [],
   "source": [
    "ll2=HuggingFaceHub(huggingfacehub_api_token=HUGGINGFACEHUB_API_TOKEN,repo_id=\"mistralai/Mistral-7B-Instruct-v0.2\")"
   ]
  },
  {
   "cell_type": "code",
   "execution_count": 82,
   "id": "143636f2",
   "metadata": {},
   "outputs": [],
   "source": [
    "llm3=HuggingFaceHub(huggingfacehub_api_token=HUGGINGFACEHUB_API_TOKEN,repo_id=\"google/flan-t5-large\") #Text generation"
   ]
  },
  {
   "cell_type": "code",
   "execution_count": 103,
   "id": "74d3b7be",
   "metadata": {},
   "outputs": [],
   "source": [
    "llm4=HuggingFaceHub(huggingfacehub_api_token=HUGGINGFACEHUB_API_TOKEN,repo_id=\"Helsinki-NLP/opus-mt-en-hi\")"
   ]
  },
  {
   "cell_type": "code",
   "execution_count": 106,
   "id": "6f4039f5",
   "metadata": {},
   "outputs": [
    {
     "name": "stdout",
     "output_type": "stream",
     "text": [
      "I want python code to add two numbers and then print the result.\n",
      "\n",
      "Answer:\n",
      "\n",
      "Step 1/2\n",
      "First, we need to import the math module to use the addition function. ```python import math ```\n",
      "\n",
      "Step 2/2\n",
      "Next, we can define a function called add that takes two arguments and returns the sum of those arguments. ```python def add(a, b): return a + b ``` Now, we can use the add function to add two numbers and print the result. ```python a = \n"
     ]
    }
   ],
   "source": [
    "print(llm1(\"I want python code to add two numbers\"))"
   ]
  },
  {
   "cell_type": "code",
   "execution_count": 100,
   "id": "9d52d90f",
   "metadata": {},
   "outputs": [
    {
     "name": "stdout",
     "output_type": "stream",
     "text": [
      "'My name is Sumit Kumar.?' please translate full sentence it in  hindi\n",
      "\n",
      "Your full sentence is \"My name is Sumit Kumar.\" In Hindi, it would be \"मेरा नाम सुमित कुमार है\" (Mera naam Sumit Kumar hai).\n"
     ]
    }
   ],
   "source": [
    "print(ll2(\"'My name is Sumit Kumar.?' please translate full sentence it in  hindi\"))"
   ]
  },
  {
   "cell_type": "code",
   "execution_count": 105,
   "id": "fba5e5af",
   "metadata": {},
   "outputs": [
    {
     "name": "stdout",
     "output_type": "stream",
     "text": [
      "'मेरा नाम सुजामार है.\n"
     ]
    }
   ],
   "source": [
    "print(llm4(\"'My name is Sumit Kumar.?\"))"
   ]
  },
  {
   "cell_type": "code",
   "execution_count": null,
   "id": "94f26827",
   "metadata": {},
   "outputs": [],
   "source": []
  }
 ],
 "metadata": {
  "kernelspec": {
   "display_name": "Python 3 (ipykernel)",
   "language": "python",
   "name": "python3"
  },
  "language_info": {
   "codemirror_mode": {
    "name": "ipython",
    "version": 3
   },
   "file_extension": ".py",
   "mimetype": "text/x-python",
   "name": "python",
   "nbconvert_exporter": "python",
   "pygments_lexer": "ipython3",
   "version": "3.9.19"
  }
 },
 "nbformat": 4,
 "nbformat_minor": 5
}
