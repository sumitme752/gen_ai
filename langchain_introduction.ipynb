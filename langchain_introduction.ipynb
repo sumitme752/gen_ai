{
 "cells": [
  {
   "cell_type": "markdown",
   "metadata": {},
   "source": [
    "#Agenda\n",
    "1. installation\n",
    "2. how to load llm with langchain\n",
    "3. Promt template\n",
    "4. chains\n",
    "5. Agents and tools\n",
    "6. memory\n",
    "7. document loader\n"
   ]
  },
  {
   "cell_type": "markdown",
   "metadata": {},
   "source": [
    "# setup enviroment variable"
   ]
  },
  {
   "cell_type": "code",
   "execution_count": 114,
   "metadata": {},
   "outputs": [
    {
     "data": {
      "text/plain": [
       "True"
      ]
     },
     "execution_count": 114,
     "metadata": {},
     "output_type": "execute_result"
    }
   ],
   "source": [
    "import os\n",
    "from dotenv import load_dotenv\n",
    "load_dotenv() "
   ]
  },
  {
   "cell_type": "code",
   "execution_count": 115,
   "metadata": {},
   "outputs": [],
   "source": [
    "HUGGINGFACEHUB_API_TOKEN=os.getenv(\"HUGGINGFACEHUB_API_TOKEN\")"
   ]
  },
  {
   "cell_type": "code",
   "execution_count": 116,
   "metadata": {},
   "outputs": [],
   "source": [
    "from langchain import HuggingFaceHub"
   ]
  },
  {
   "cell_type": "code",
   "execution_count": 117,
   "metadata": {},
   "outputs": [],
   "source": [
    "llm_model=HuggingFaceHub(huggingfacehub_api_token=HUGGINGFACEHUB_API_TOKEN,repo_id=\"google/gemma-7b\")"
   ]
  },
  {
   "cell_type": "code",
   "execution_count": 118,
   "metadata": {},
   "outputs": [
    {
     "name": "stdout",
     "output_type": "stream",
     "text": [
      "I want python code to add two numbers and then print the result.\n",
      "\n",
      "Answer:\n",
      "\n",
      "Step 1/2\n",
      "First, we need to import the math module to use the addition function. ```python import math ```\n",
      "\n",
      "Step 2/2\n",
      "Next, we can define a function called add that takes two arguments and returns the sum of those arguments. ```python def add(a, b): return a + b ``` Now, we can use the add function to add two numbers and print the result. ```python a = \n"
     ]
    }
   ],
   "source": [
    "print(llm_model(\"I want python code to add two numbers\"))"
   ]
  },
  {
   "cell_type": "markdown",
   "metadata": {},
   "source": [
    "# OpenAi"
   ]
  },
  {
   "cell_type": "code",
   "execution_count": 124,
   "metadata": {},
   "outputs": [],
   "source": [
    "# OPENAI_API_KEY=os.getenv(\"OPENAI_API_KEY\")"
   ]
  },
  {
   "cell_type": "code",
   "execution_count": 125,
   "metadata": {},
   "outputs": [],
   "source": [
    "# import openai\n",
    "# from langchain.llms import OpenAI"
   ]
  },
  {
   "cell_type": "code",
   "execution_count": 126,
   "metadata": {},
   "outputs": [],
   "source": [
    "# llm=OpenAI(temperature= 0.9)"
   ]
  },
  {
   "cell_type": "code",
   "execution_count": 127,
   "metadata": {},
   "outputs": [],
   "source": [
    "# text = \"What would be a company name for a company make colorful socks?\""
   ]
  },
  {
   "cell_type": "code",
   "execution_count": 123,
   "metadata": {},
   "outputs": [],
   "source": [
    "# llm.predict(text)"
   ]
  },
  {
   "cell_type": "markdown",
   "metadata": {},
   "source": [
    "# HuggingFace"
   ]
  },
  {
   "cell_type": "code",
   "execution_count": 59,
   "metadata": {},
   "outputs": [],
   "source": [
    "from langchain import HuggingFaceHub"
   ]
  },
  {
   "cell_type": "code",
   "execution_count": 77,
   "metadata": {},
   "outputs": [],
   "source": [
    "llm_model_new=HuggingFaceHub(repo_id=\"Helsinki-NLP/opus-mt-en-hi\", model_kwargs={\"temperature\":0.5})"
   ]
  },
  {
   "cell_type": "code",
   "execution_count": 78,
   "metadata": {},
   "outputs": [
    {
     "name": "stdout",
     "output_type": "stream",
     "text": [
      "आप कैसे हैं?\n"
     ]
    }
   ],
   "source": [
    "print(llm_model_new(\"translate English to Hindi: How are you?\"))"
   ]
  },
  {
   "cell_type": "markdown",
   "metadata": {},
   "source": [
    "# Prompt Template"
   ]
  },
  {
   "cell_type": "code",
   "execution_count": 97,
   "metadata": {},
   "outputs": [],
   "source": [
    "from langchain import HuggingFaceHub\n",
    "from langchain.prompts import PromptTemplate\n",
    "pro = HuggingFaceHub(repo_id=\"google/gemma-7b\", model_kwargs={\"temperature\":0.5})"
   ]
  },
  {
   "cell_type": "code",
   "execution_count": 98,
   "metadata": {},
   "outputs": [
    {
     "name": "stdout",
     "output_type": "stream",
     "text": [
      "what is the capital of jharkhand\n"
     ]
    }
   ],
   "source": [
    "\n",
    "prompt_template_name = PromptTemplate(\n",
    "    input_variables=['input_name'],\n",
    "    template=\"what is the capital of {input_name}\"\n",
    ")\n",
    "p = prompt_template_name.format(input_name=\"jharkhand\")\n",
    "print(p)"
   ]
  },
  {
   "cell_type": "code",
   "execution_count": 99,
   "metadata": {},
   "outputs": [
    {
     "name": "stdout",
     "output_type": "stream",
     "text": [
      "what is the capital of jharkhand\n",
      "\n",
      "Answer:\n",
      "\n",
      "Step 1/2\n",
      "Jharkhand is a state in India. The capital of India is Delhi.\n",
      "\n",
      "Step 2/2\n",
      "Therefore, the capital of Jharkhand is not Delhi, but Ranchi.\n"
     ]
    }
   ],
   "source": [
    "print(pro(p))"
   ]
  },
  {
   "cell_type": "markdown",
   "metadata": {},
   "source": [
    "# Chains"
   ]
  },
  {
   "cell_type": "code",
   "execution_count": 106,
   "metadata": {},
   "outputs": [],
   "source": [
    "from langchain import HuggingFaceHub\n",
    "from langchain.prompts import PromptTemplate\n",
    "pro = HuggingFaceHub(repo_id=\"google/gemma-7b\", model_kwargs={\"temperature\":0.5})\n",
    "\n",
    "prompt_template_name = PromptTemplate.from_template(\"what is the capital of {product}\")\n",
    "# prompt_template_name.format(product=\"jharkhand\")"
   ]
  },
  {
   "cell_type": "code",
   "execution_count": 110,
   "metadata": {},
   "outputs": [
    {
     "name": "stdout",
     "output_type": "stream",
     "text": [
      "what is the capital of west bengal\n",
      "\n",
      "Answer:\n",
      "\n",
      "Step 1/6\n",
      "1. West Bengal is a state in India.\n",
      "\n",
      "Step 2/6\n",
      "2. The capital of India is New Delhi.\n",
      "\n",
      "Step 3/6\n",
      "3. The capital of West Bengal is Kolkata.\n",
      "\n",
      "Step 4/6\n",
      "4. Kolkata is also known as Calcutta.\n",
      "\n",
      "Step 5/6\n",
      "5. Kolkata is located in the eastern part of India.\n",
      "\n",
      "Step 6/6\n",
      "6. Kolkata is\n"
     ]
    }
   ],
   "source": [
    "from langchain.chains import LLMChain\n",
    "\n",
    "chain=LLMChain(llm=pro, prompt=prompt_template_name)\n",
    "response= chain.run(\"west bengal\")\n",
    "print(response)"
   ]
  },
  {
   "cell_type": "code",
   "execution_count": 112,
   "metadata": {},
   "outputs": [
    {
     "name": "stdout",
     "output_type": "stream",
     "text": [
      "\n",
      "\n",
      "\u001b[1m> Entering new LLMChain chain...\u001b[0m\n",
      "Prompt after formatting:\n",
      "\u001b[32;1m\u001b[1;3mwhat is the capital of west bengal\u001b[0m\n",
      "\n",
      "\u001b[1m> Finished chain.\u001b[0m\n",
      "what is the capital of west bengal\n",
      "\n",
      "Answer:\n",
      "\n",
      "Step 1/6\n",
      "1. West Bengal is a state in India.\n",
      "\n",
      "Step 2/6\n",
      "2. The capital of India is New Delhi.\n",
      "\n",
      "Step 3/6\n",
      "3. The capital of West Bengal is Kolkata.\n",
      "\n",
      "Step 4/6\n",
      "4. Kolkata is also known as Calcutta.\n",
      "\n",
      "Step 5/6\n",
      "5. Kolkata is located in the eastern part of India.\n",
      "\n",
      "Step 6/6\n",
      "6. Kolkata is\n"
     ]
    }
   ],
   "source": [
    "from langchain.chains import LLMChain\n",
    "\n",
    "chain=LLMChain(llm=pro, prompt=prompt_template_name,verbose=True)\n",
    "response= chain.run(\"west bengal\")\n",
    "print(response)"
   ]
  },
  {
   "cell_type": "code",
   "execution_count": null,
   "metadata": {},
   "outputs": [],
   "source": []
  }
 ],
 "metadata": {
  "kernelspec": {
   "display_name": "Python 3",
   "language": "python",
   "name": "python3"
  },
  "language_info": {
   "codemirror_mode": {
    "name": "ipython",
    "version": 3
   },
   "file_extension": ".py",
   "mimetype": "text/x-python",
   "name": "python",
   "nbconvert_exporter": "python",
   "pygments_lexer": "ipython3",
   "version": "3.9.19"
  }
 },
 "nbformat": 4,
 "nbformat_minor": 2
}
