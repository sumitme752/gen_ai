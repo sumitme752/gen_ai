{
 "cells": [
  {
   "cell_type": "code",
   "execution_count": 1,
   "metadata": {},
   "outputs": [
    {
     "name": "stdout",
     "output_type": "stream",
     "text": [
      "Requirement already satisfied: langchain in ./langc/lib/python3.9/site-packages (0.2.12)\n",
      "Requirement already satisfied: PyYAML>=5.3 in ./langc/lib/python3.9/site-packages (from langchain) (6.0.2)\n",
      "Requirement already satisfied: SQLAlchemy<3,>=1.4 in ./langc/lib/python3.9/site-packages (from langchain) (2.0.32)\n",
      "Requirement already satisfied: aiohttp<4.0.0,>=3.8.3 in ./langc/lib/python3.9/site-packages (from langchain) (3.10.3)\n",
      "Requirement already satisfied: async-timeout<5.0.0,>=4.0.0 in ./langc/lib/python3.9/site-packages (from langchain) (4.0.3)\n",
      "Requirement already satisfied: langchain-core<0.3.0,>=0.2.27 in ./langc/lib/python3.9/site-packages (from langchain) (0.2.29)\n",
      "Requirement already satisfied: langchain-text-splitters<0.3.0,>=0.2.0 in ./langc/lib/python3.9/site-packages (from langchain) (0.2.2)\n",
      "Requirement already satisfied: langsmith<0.2.0,>=0.1.17 in ./langc/lib/python3.9/site-packages (from langchain) (0.1.99)\n",
      "Requirement already satisfied: numpy<2,>=1 in ./langc/lib/python3.9/site-packages (from langchain) (1.26.4)\n",
      "Requirement already satisfied: pydantic<3,>=1 in ./langc/lib/python3.9/site-packages (from langchain) (2.8.2)\n",
      "Requirement already satisfied: requests<3,>=2 in ./langc/lib/python3.9/site-packages (from langchain) (2.32.3)\n",
      "Requirement already satisfied: tenacity!=8.4.0,<9.0.0,>=8.1.0 in ./langc/lib/python3.9/site-packages (from langchain) (8.5.0)\n",
      "Requirement already satisfied: aiohappyeyeballs>=2.3.0 in ./langc/lib/python3.9/site-packages (from aiohttp<4.0.0,>=3.8.3->langchain) (2.3.5)\n",
      "Requirement already satisfied: aiosignal>=1.1.2 in ./langc/lib/python3.9/site-packages (from aiohttp<4.0.0,>=3.8.3->langchain) (1.3.1)\n",
      "Requirement already satisfied: attrs>=17.3.0 in ./langc/lib/python3.9/site-packages (from aiohttp<4.0.0,>=3.8.3->langchain) (24.2.0)\n",
      "Requirement already satisfied: frozenlist>=1.1.1 in ./langc/lib/python3.9/site-packages (from aiohttp<4.0.0,>=3.8.3->langchain) (1.4.1)\n",
      "Requirement already satisfied: multidict<7.0,>=4.5 in ./langc/lib/python3.9/site-packages (from aiohttp<4.0.0,>=3.8.3->langchain) (6.0.5)\n",
      "Requirement already satisfied: yarl<2.0,>=1.0 in ./langc/lib/python3.9/site-packages (from aiohttp<4.0.0,>=3.8.3->langchain) (1.9.4)\n",
      "Requirement already satisfied: jsonpatch<2.0,>=1.33 in ./langc/lib/python3.9/site-packages (from langchain-core<0.3.0,>=0.2.27->langchain) (1.33)\n",
      "Requirement already satisfied: packaging<25,>=23.2 in ./langc/lib/python3.9/site-packages (from langchain-core<0.3.0,>=0.2.27->langchain) (24.1)\n",
      "Requirement already satisfied: typing-extensions>=4.7 in ./langc/lib/python3.9/site-packages (from langchain-core<0.3.0,>=0.2.27->langchain) (4.11.0)\n",
      "Requirement already satisfied: orjson<4.0.0,>=3.9.14 in ./langc/lib/python3.9/site-packages (from langsmith<0.2.0,>=0.1.17->langchain) (3.10.7)\n",
      "Requirement already satisfied: annotated-types>=0.4.0 in ./langc/lib/python3.9/site-packages (from pydantic<3,>=1->langchain) (0.7.0)\n",
      "Requirement already satisfied: pydantic-core==2.20.1 in ./langc/lib/python3.9/site-packages (from pydantic<3,>=1->langchain) (2.20.1)\n",
      "Requirement already satisfied: charset-normalizer<4,>=2 in ./langc/lib/python3.9/site-packages (from requests<3,>=2->langchain) (3.3.2)\n",
      "Requirement already satisfied: idna<4,>=2.5 in ./langc/lib/python3.9/site-packages (from requests<3,>=2->langchain) (3.7)\n",
      "Requirement already satisfied: urllib3<3,>=1.21.1 in ./langc/lib/python3.9/site-packages (from requests<3,>=2->langchain) (2.2.2)\n",
      "Requirement already satisfied: certifi>=2017.4.17 in ./langc/lib/python3.9/site-packages (from requests<3,>=2->langchain) (2024.7.4)\n",
      "Requirement already satisfied: jsonpointer>=1.9 in ./langc/lib/python3.9/site-packages (from jsonpatch<2.0,>=1.33->langchain-core<0.3.0,>=0.2.27->langchain) (3.0.0)\n",
      "Collecting pinecone-client==2.2.4\n",
      "  Downloading pinecone_client-2.2.4-py3-none-any.whl.metadata (7.8 kB)\n",
      "Requirement already satisfied: requests>=2.19.0 in ./langc/lib/python3.9/site-packages (from pinecone-client==2.2.4) (2.32.3)\n",
      "Requirement already satisfied: pyyaml>=5.4 in ./langc/lib/python3.9/site-packages (from pinecone-client==2.2.4) (6.0.2)\n",
      "Collecting loguru>=0.5.0 (from pinecone-client==2.2.4)\n",
      "  Downloading loguru-0.7.2-py3-none-any.whl.metadata (23 kB)\n",
      "Requirement already satisfied: typing-extensions>=3.7.4 in ./langc/lib/python3.9/site-packages (from pinecone-client==2.2.4) (4.11.0)\n",
      "Collecting dnspython>=2.0.0 (from pinecone-client==2.2.4)\n",
      "  Downloading dnspython-2.6.1-py3-none-any.whl.metadata (5.8 kB)\n",
      "Requirement already satisfied: python-dateutil>=2.5.3 in ./langc/lib/python3.9/site-packages (from pinecone-client==2.2.4) (2.9.0.post0)\n",
      "Requirement already satisfied: urllib3>=1.21.1 in ./langc/lib/python3.9/site-packages (from pinecone-client==2.2.4) (2.2.2)\n",
      "Requirement already satisfied: tqdm>=4.64.1 in ./langc/lib/python3.9/site-packages (from pinecone-client==2.2.4) (4.66.5)\n",
      "Requirement already satisfied: numpy>=1.22.0 in ./langc/lib/python3.9/site-packages (from pinecone-client==2.2.4) (1.26.4)\n",
      "Requirement already satisfied: six>=1.5 in ./langc/lib/python3.9/site-packages (from python-dateutil>=2.5.3->pinecone-client==2.2.4) (1.16.0)\n",
      "Requirement already satisfied: charset-normalizer<4,>=2 in ./langc/lib/python3.9/site-packages (from requests>=2.19.0->pinecone-client==2.2.4) (3.3.2)\n",
      "Requirement already satisfied: idna<4,>=2.5 in ./langc/lib/python3.9/site-packages (from requests>=2.19.0->pinecone-client==2.2.4) (3.7)\n",
      "Requirement already satisfied: certifi>=2017.4.17 in ./langc/lib/python3.9/site-packages (from requests>=2.19.0->pinecone-client==2.2.4) (2024.7.4)\n",
      "Downloading pinecone_client-2.2.4-py3-none-any.whl (179 kB)\n",
      "\u001b[2K   \u001b[90m━━━━━━━━━━━━━━━━━━━━━━━━━━━━━━━━━━━━━━━━\u001b[0m \u001b[32m179.4/179.4 kB\u001b[0m \u001b[31m4.7 MB/s\u001b[0m eta \u001b[36m0:00:00\u001b[0m\n",
      "\u001b[?25hDownloading dnspython-2.6.1-py3-none-any.whl (307 kB)\n",
      "\u001b[2K   \u001b[90m━━━━━━━━━━━━━━━━━━━━━━━━━━━━━━━━━━━━━━━━\u001b[0m \u001b[32m307.7/307.7 kB\u001b[0m \u001b[31m12.4 MB/s\u001b[0m eta \u001b[36m0:00:00\u001b[0m\n",
      "\u001b[?25hDownloading loguru-0.7.2-py3-none-any.whl (62 kB)\n",
      "\u001b[2K   \u001b[90m━━━━━━━━━━━━━━━━━━━━━━━━━━━━━━━━━━━━━━━━\u001b[0m \u001b[32m62.5/62.5 kB\u001b[0m \u001b[31m6.3 MB/s\u001b[0m eta \u001b[36m0:00:00\u001b[0m\n",
      "\u001b[?25hInstalling collected packages: loguru, dnspython, pinecone-client\n",
      "Successfully installed dnspython-2.6.1 loguru-0.7.2 pinecone-client-2.2.4\n",
      "Requirement already satisfied: pypdf in ./langc/lib/python3.9/site-packages (4.3.1)\n",
      "Requirement already satisfied: typing_extensions>=4.0 in ./langc/lib/python3.9/site-packages (from pypdf) (4.11.0)\n"
     ]
    }
   ],
   "source": [
    "!pip install langchain\n",
    "!pip install pinecone-client==2.2.4\n",
    "!pip install pypdf"
   ]
  },
  {
   "cell_type": "code",
   "execution_count": 2,
   "metadata": {},
   "outputs": [
    {
     "name": "stdout",
     "output_type": "stream",
     "text": [
      "Collecting sentence-transformers==2.2.2\n",
      "  Downloading sentence-transformers-2.2.2.tar.gz (85 kB)\n",
      "\u001b[2K     \u001b[90m━━━━━━━━━━━━━━━━━━━━━━━━━━━━━━━━━━━━━━━━\u001b[0m \u001b[32m86.0/86.0 kB\u001b[0m \u001b[31m3.1 MB/s\u001b[0m eta \u001b[36m0:00:00\u001b[0m\n",
      "\u001b[?25h  Preparing metadata (setup.py) ... \u001b[?25ldone\n",
      "\u001b[?25hRequirement already satisfied: transformers<5.0.0,>=4.6.0 in ./langc/lib/python3.9/site-packages (from sentence-transformers==2.2.2) (4.44.0)\n",
      "Requirement already satisfied: tqdm in ./langc/lib/python3.9/site-packages (from sentence-transformers==2.2.2) (4.66.5)\n",
      "Requirement already satisfied: torch>=1.6.0 in ./langc/lib/python3.9/site-packages (from sentence-transformers==2.2.2) (2.4.0)\n",
      "Collecting torchvision (from sentence-transformers==2.2.2)\n",
      "  Downloading torchvision-0.19.0-cp39-cp39-macosx_11_0_arm64.whl.metadata (6.0 kB)\n",
      "Requirement already satisfied: numpy in ./langc/lib/python3.9/site-packages (from sentence-transformers==2.2.2) (1.26.4)\n",
      "Requirement already satisfied: scikit-learn in ./langc/lib/python3.9/site-packages (from sentence-transformers==2.2.2) (1.5.1)\n",
      "Requirement already satisfied: scipy in ./langc/lib/python3.9/site-packages (from sentence-transformers==2.2.2) (1.13.1)\n",
      "Collecting nltk (from sentence-transformers==2.2.2)\n",
      "  Downloading nltk-3.8.2-py3-none-any.whl.metadata (2.9 kB)\n",
      "Collecting sentencepiece (from sentence-transformers==2.2.2)\n",
      "  Downloading sentencepiece-0.2.0-cp39-cp39-macosx_11_0_arm64.whl.metadata (7.7 kB)\n",
      "Requirement already satisfied: huggingface-hub>=0.4.0 in ./langc/lib/python3.9/site-packages (from sentence-transformers==2.2.2) (0.24.5)\n",
      "Requirement already satisfied: filelock in ./langc/lib/python3.9/site-packages (from huggingface-hub>=0.4.0->sentence-transformers==2.2.2) (3.15.4)\n",
      "Requirement already satisfied: fsspec>=2023.5.0 in ./langc/lib/python3.9/site-packages (from huggingface-hub>=0.4.0->sentence-transformers==2.2.2) (2024.6.1)\n",
      "Requirement already satisfied: packaging>=20.9 in ./langc/lib/python3.9/site-packages (from huggingface-hub>=0.4.0->sentence-transformers==2.2.2) (24.1)\n",
      "Requirement already satisfied: pyyaml>=5.1 in ./langc/lib/python3.9/site-packages (from huggingface-hub>=0.4.0->sentence-transformers==2.2.2) (6.0.2)\n",
      "Requirement already satisfied: requests in ./langc/lib/python3.9/site-packages (from huggingface-hub>=0.4.0->sentence-transformers==2.2.2) (2.32.3)\n",
      "Requirement already satisfied: typing-extensions>=3.7.4.3 in ./langc/lib/python3.9/site-packages (from huggingface-hub>=0.4.0->sentence-transformers==2.2.2) (4.11.0)\n",
      "Requirement already satisfied: sympy in ./langc/lib/python3.9/site-packages (from torch>=1.6.0->sentence-transformers==2.2.2) (1.13.2)\n",
      "Requirement already satisfied: networkx in ./langc/lib/python3.9/site-packages (from torch>=1.6.0->sentence-transformers==2.2.2) (3.2.1)\n",
      "Requirement already satisfied: jinja2 in ./langc/lib/python3.9/site-packages (from torch>=1.6.0->sentence-transformers==2.2.2) (3.1.4)\n",
      "Requirement already satisfied: regex!=2019.12.17 in ./langc/lib/python3.9/site-packages (from transformers<5.0.0,>=4.6.0->sentence-transformers==2.2.2) (2024.7.24)\n",
      "Requirement already satisfied: safetensors>=0.4.1 in ./langc/lib/python3.9/site-packages (from transformers<5.0.0,>=4.6.0->sentence-transformers==2.2.2) (0.4.4)\n",
      "Requirement already satisfied: tokenizers<0.20,>=0.19 in ./langc/lib/python3.9/site-packages (from transformers<5.0.0,>=4.6.0->sentence-transformers==2.2.2) (0.19.1)\n",
      "Requirement already satisfied: click in ./langc/lib/python3.9/site-packages (from nltk->sentence-transformers==2.2.2) (8.1.7)\n",
      "Requirement already satisfied: joblib in ./langc/lib/python3.9/site-packages (from nltk->sentence-transformers==2.2.2) (1.4.2)\n",
      "Requirement already satisfied: threadpoolctl>=3.1.0 in ./langc/lib/python3.9/site-packages (from scikit-learn->sentence-transformers==2.2.2) (3.5.0)\n",
      "Requirement already satisfied: pillow!=8.3.*,>=5.3.0 in ./langc/lib/python3.9/site-packages (from torchvision->sentence-transformers==2.2.2) (10.4.0)\n",
      "Requirement already satisfied: MarkupSafe>=2.0 in ./langc/lib/python3.9/site-packages (from jinja2->torch>=1.6.0->sentence-transformers==2.2.2) (2.1.5)\n",
      "Requirement already satisfied: charset-normalizer<4,>=2 in ./langc/lib/python3.9/site-packages (from requests->huggingface-hub>=0.4.0->sentence-transformers==2.2.2) (3.3.2)\n",
      "Requirement already satisfied: idna<4,>=2.5 in ./langc/lib/python3.9/site-packages (from requests->huggingface-hub>=0.4.0->sentence-transformers==2.2.2) (3.7)\n",
      "Requirement already satisfied: urllib3<3,>=1.21.1 in ./langc/lib/python3.9/site-packages (from requests->huggingface-hub>=0.4.0->sentence-transformers==2.2.2) (2.2.2)\n",
      "Requirement already satisfied: certifi>=2017.4.17 in ./langc/lib/python3.9/site-packages (from requests->huggingface-hub>=0.4.0->sentence-transformers==2.2.2) (2024.7.4)\n",
      "Requirement already satisfied: mpmath<1.4,>=1.1.0 in ./langc/lib/python3.9/site-packages (from sympy->torch>=1.6.0->sentence-transformers==2.2.2) (1.3.0)\n",
      "Downloading nltk-3.8.2-py3-none-any.whl (1.5 MB)\n",
      "\u001b[2K   \u001b[90m━━━━━━━━━━━━━━━━━━━━━━━━━━━━━━━━━━━━━━━━\u001b[0m \u001b[32m1.5/1.5 MB\u001b[0m \u001b[31m15.5 MB/s\u001b[0m eta \u001b[36m0:00:00\u001b[0ma \u001b[36m0:00:01\u001b[0m\n",
      "\u001b[?25hDownloading sentencepiece-0.2.0-cp39-cp39-macosx_11_0_arm64.whl (1.2 MB)\n",
      "\u001b[2K   \u001b[90m━━━━━━━━━━━━━━━━━━━━━━━━━━━━━━━━━━━━━━━━\u001b[0m \u001b[32m1.2/1.2 MB\u001b[0m \u001b[31m20.2 MB/s\u001b[0m eta \u001b[36m0:00:00\u001b[0ma \u001b[36m0:00:01\u001b[0m\n",
      "\u001b[?25hDownloading torchvision-0.19.0-cp39-cp39-macosx_11_0_arm64.whl (1.7 MB)\n",
      "\u001b[2K   \u001b[90m━━━━━━━━━━━━━━━━━━━━━━━━━━━━━━━━━━━━━━━━\u001b[0m \u001b[32m1.7/1.7 MB\u001b[0m \u001b[31m22.6 MB/s\u001b[0m eta \u001b[36m0:00:00\u001b[0ma \u001b[36m0:00:01\u001b[0m\n",
      "\u001b[?25hBuilding wheels for collected packages: sentence-transformers\n",
      "  Building wheel for sentence-transformers (setup.py) ... \u001b[?25ldone\n",
      "\u001b[?25h  Created wheel for sentence-transformers: filename=sentence_transformers-2.2.2-py3-none-any.whl size=125924 sha256=44a382c36fc77ccfa20a1e69c90a485a83edc3871c583e57839c33d3676da351\n",
      "  Stored in directory: /Users/sumitkumar/Library/Caches/pip/wheels/71/67/06/162a3760c40d74dd40bc855d527008d26341c2b0ecf3e8e11f\n",
      "Successfully built sentence-transformers\n",
      "Installing collected packages: sentencepiece, nltk, torchvision, sentence-transformers\n",
      "  Attempting uninstall: sentence-transformers\n",
      "    Found existing installation: sentence-transformers 3.0.1\n",
      "    Uninstalling sentence-transformers-3.0.1:\n",
      "      Successfully uninstalled sentence-transformers-3.0.1\n",
      "Successfully installed nltk-3.8.2 sentence-transformers-2.2.2 sentencepiece-0.2.0 torchvision-0.19.0\n"
     ]
    }
   ],
   "source": [
    "!pip install sentence-transformers==2.2.2"
   ]
  },
  {
   "cell_type": "code",
   "execution_count": 3,
   "metadata": {},
   "outputs": [],
   "source": [
    "from langchain.document_loaders import PyPDFDirectoryLoader"
   ]
  },
  {
   "cell_type": "code",
   "execution_count": 4,
   "metadata": {},
   "outputs": [],
   "source": [
    "loader = PyPDFDirectoryLoader(\"pdfs\")\n",
    "data = loader.load()"
   ]
  },
  {
   "cell_type": "code",
   "execution_count": 10,
   "metadata": {},
   "outputs": [
    {
     "name": "stdout",
     "output_type": "stream",
     "text": [
      "page_content='Sumit Kumar\n",
      "Data Scientist\n",
      "  sumitme752@gmail.com    (+91) 8553282301        Bangalore, India\n",
      "  Career Summary\n",
      "Motivated professional with 4 years of experience in Data Science and Analytics (total exp 6 years) . Experienced at interpreting and\n",
      "analyzing data to drive solutions, and furnish insights and business intelligence needed to guide decisions for a business problem.\n",
      "Passionate about building models that \u0000x issues. Relevant skills include machine learning, problem-solving, programming and creative\n",
      "thinking. Also, I have experience in training & guiding individuals on ML and related topics.\n",
      "    Skills\n",
      "Statistical Analysis - Exploratory Data Analysis, Inferential Statistics, Hypothesis Testing\n",
      "Machine Learning & AI -  \n",
      "Algorithms: Decision Tree, Random Forest, XG Boost, Linear Regression, Logistic Regression, SVM, KNN\n",
      "NLP: Text preprocessing, Deep Learning - ANN , RNN ,CNN\n",
      "Programming Languages & Databases - Python , SQL\n",
      "Frameworks  - NumPy, Pandas, Sci-kit learn, SciPy\n",
      "Tools/IDE - VS Code, Jupyter Notebook , Excel , Git\n",
      "Operating Syste- Windows , Linux , MacOS\n",
      "Web Development - HTML, CSS,  ReactJs\n",
      " \n",
      "  Work Experience\n",
      "1. Pravartan Technologies - Data Scientist ( Mar 2023 - Present)\n",
      "Projects\n",
      "1. Data Quality Analysis and Dashboarding\n",
      "Goal : This project focuses on assessing and visualizing the completeness and accuracy of data using a combination of tools and\n",
      "technologies, including Excel, Python, Power BI, and Snow\u0000ake. The primary goal is to ensure the integrity of data and provide\n",
      "actionable insights through comprehensive dashboards.\n",
      "Roles & Responsibilities\n",
      "Data Extraction: Connect to Snow\u0000ake and extract relevant datasets.\n",
      "Data Analysis: Using excel perform preliminary data checks, cleaning, and basic completeness analysis. Conduct advanced data\n",
      "analysis to identify incorrect data and automate quality checks.\n",
      "Dashboard Development: Used Power BI to create dynamic dashboards that provide visual insights into data quality metrics.\n",
      "Review and Reporting: Compile \u0000ndings into comprehensive reports and suggest actionable recommendations for data quality\n",
      "improvement.\n",
      "2.  Automated Form Filling Using Data Preparation and Analysis\n",
      "Goal : This project demonstrates a proof of concept (POC) for automating the process of \u0000lling blank forms with valid answers. Focuses\n",
      "on data preparation and analysis, leveraging Azure Computer Vision to convert PDF forms into JSON format for further processing. This\n",
      "will  signi\u0000cantly reduce manual effort and increase accuracy. \n",
      "Roles & Responsibilities\n",
      "Data Preparation: Collect and clean data required for \u0000lling forms, ensuring it is structured and ready for analysis.' metadata={'source': 'pdfs/Sumit Kumar - 4 years.pdf', 'page': 0}\n"
     ]
    }
   ],
   "source": [
    "print(data[0])"
   ]
  },
  {
   "cell_type": "markdown",
   "metadata": {},
   "source": [
    "# Chunkins"
   ]
  },
  {
   "cell_type": "code",
   "execution_count": 12,
   "metadata": {},
   "outputs": [],
   "source": [
    "from langchain.text_splitter import RecursiveCharacterTextSplitter"
   ]
  },
  {
   "cell_type": "code",
   "execution_count": 13,
   "metadata": {},
   "outputs": [],
   "source": [
    "text_splitter = RecursiveCharacterTextSplitter(chunk_size=500, chunk_overlap=20)\n",
    "text_chunks = text_splitter.split_documents(data)"
   ]
  },
  {
   "cell_type": "code",
   "execution_count": 14,
   "metadata": {},
   "outputs": [
    {
     "data": {
      "text/plain": [
       "14"
      ]
     },
     "execution_count": 14,
     "metadata": {},
     "output_type": "execute_result"
    }
   ],
   "source": [
    "len(text_chunks)"
   ]
  },
  {
   "cell_type": "code",
   "execution_count": 15,
   "metadata": {},
   "outputs": [
    {
     "data": {
      "text/plain": [
       "Document(metadata={'source': 'pdfs/Sumit Kumar - 4 years.pdf', 'page': 0}, page_content='NLP: Text preprocessing,\\xa0Deep Learning - ANN , RNN ,CNN\\nProgramming Languages & Databases - Python , SQL\\nFrameworks\\xa0\\xa0- NumPy, Pandas, Sci-kit learn, SciPy\\nTools/IDE\\xa0-\\xa0VS Code, Jupyter Notebook , Excel , Git\\nOperating Syste- Windows , Linux , MacOS\\nWeb Development - HTML, CSS, \\xa0ReactJs\\n \\n\\xa0 Work Experience\\n1. Pravartan Technologies - Data Scientist\\xa0( Mar 2023 - Present)\\nProjects\\n1. Data Quality Analysis and Dashboarding')"
      ]
     },
     "execution_count": 15,
     "metadata": {},
     "output_type": "execute_result"
    }
   ],
   "source": [
    "text_chunks[2]"
   ]
  },
  {
   "cell_type": "markdown",
   "metadata": {},
   "source": [
    "# Embeddings"
   ]
  },
  {
   "cell_type": "code",
   "execution_count": 17,
   "metadata": {},
   "outputs": [],
   "source": [
    "from langchain.embeddings import HuggingFaceEmbeddings"
   ]
  },
  {
   "cell_type": "code",
   "execution_count": 18,
   "metadata": {},
   "outputs": [
    {
     "name": "stderr",
     "output_type": "stream",
     "text": [
      "/Users/sumitkumar/Desktop/sumit_dir/data_science/Gen Ai/langchain/langc/lib/python3.9/site-packages/langchain_core/_api/deprecation.py:139: LangChainDeprecationWarning: The class `HuggingFaceEmbeddings` was deprecated in LangChain 0.2.2 and will be removed in 0.3.0. An updated version of the class exists in the langchain-huggingface package and should be used instead. To use it run `pip install -U langchain-huggingface` and import as `from langchain_huggingface import HuggingFaceEmbeddings`.\n",
      "  warn_deprecated(\n",
      "/Users/sumitkumar/Desktop/sumit_dir/data_science/Gen Ai/langchain/langc/lib/python3.9/site-packages/tqdm/auto.py:21: TqdmWarning: IProgress not found. Please update jupyter and ipywidgets. See https://ipywidgets.readthedocs.io/en/stable/user_install.html\n",
      "  from .autonotebook import tqdm as notebook_tqdm\n",
      "/Users/sumitkumar/Desktop/sumit_dir/data_science/Gen Ai/langchain/langc/lib/python3.9/site-packages/huggingface_hub/utils/_deprecation.py:131: FutureWarning: 'cached_download' (from 'huggingface_hub.file_download') is deprecated and will be removed from version '0.26'. Use `hf_hub_download` instead.\n",
      "  warnings.warn(warning_message, FutureWarning)\n",
      "/Users/sumitkumar/Desktop/sumit_dir/data_science/Gen Ai/langchain/langc/lib/python3.9/site-packages/transformers/tokenization_utils_base.py:1601: FutureWarning: `clean_up_tokenization_spaces` was not set. It will be set to `True` by default. This behavior will be depracted in transformers v4.45, and will be then set to `False` by default. For more details check this issue: https://github.com/huggingface/transformers/issues/31884\n",
      "  warnings.warn(\n"
     ]
    }
   ],
   "source": [
    "embeddings = HuggingFaceEmbeddings(model_name=\"sentence-transformers/all-MiniLM-L6-v2\")"
   ]
  },
  {
   "cell_type": "code",
   "execution_count": 19,
   "metadata": {},
   "outputs": [],
   "source": [
    "query_result = embeddings.embed_query(\"Hello World\")"
   ]
  },
  {
   "cell_type": "code",
   "execution_count": 20,
   "metadata": {},
   "outputs": [
    {
     "data": {
      "text/plain": [
       "[-0.03447728604078293,\n",
       " 0.031023267656564713,\n",
       " 0.006734997034072876,\n",
       " 0.02610897831618786,\n",
       " -0.0393621064722538,\n",
       " -0.16030247509479523,\n",
       " 0.066924087703228,\n",
       " -0.00644137617200613,\n",
       " -0.04745044559240341,\n",
       " 0.014758842997252941,\n",
       " 0.07087539881467819,\n",
       " 0.05552750080823898,\n",
       " 0.019193340092897415,\n",
       " -0.02625138871371746,\n",
       " -0.01010960340499878,\n",
       " -0.026940476149320602,\n",
       " 0.022307490929961205,\n",
       " -0.022226663306355476,\n",
       " -0.149692565202713,\n",
       " -0.01749301701784134,\n",
       " 0.007676353678107262,\n",
       " 0.05435230955481529,\n",
       " 0.003254495793953538,\n",
       " 0.03172589838504791,\n",
       " -0.08462144434452057,\n",
       " -0.0294061116874218,\n",
       " 0.05159566551446915,\n",
       " 0.048124078661203384,\n",
       " -0.0033147772774100304,\n",
       " -0.058279260993003845,\n",
       " 0.04196932166814804,\n",
       " 0.022210663184523582,\n",
       " 0.128188818693161,\n",
       " -0.022338958457112312,\n",
       " -0.011656227521598339,\n",
       " 0.06292832642793655,\n",
       " -0.03287624567747116,\n",
       " -0.09122596681118011,\n",
       " -0.03117532841861248,\n",
       " 0.05269956216216087,\n",
       " 0.04703476279973984,\n",
       " -0.0842030718922615,\n",
       " -0.030056225135922432,\n",
       " -0.020744914188981056,\n",
       " 0.009517857804894447,\n",
       " -0.0037218197248876095,\n",
       " 0.0073433383367955685,\n",
       " 0.03932429477572441,\n",
       " 0.0932740718126297,\n",
       " -0.0037887401413172483,\n",
       " -0.05274223908782005,\n",
       " -0.05805815011262894,\n",
       " -0.006864456459879875,\n",
       " 0.00528329610824585,\n",
       " 0.08289291709661484,\n",
       " 0.019362838938832283,\n",
       " 0.0062844520434737206,\n",
       " -0.010330687277019024,\n",
       " 0.00903239008039236,\n",
       " -0.03768379986286163,\n",
       " -0.045206017792224884,\n",
       " 0.024016449227929115,\n",
       " -0.006944178603589535,\n",
       " 0.01349165290594101,\n",
       " 0.10005488246679306,\n",
       " -0.071683868765831,\n",
       " -0.021695170551538467,\n",
       " 0.03161836788058281,\n",
       " -0.051634617149829865,\n",
       " -0.0822477862238884,\n",
       " -0.06569325923919678,\n",
       " -0.009895332157611847,\n",
       " 0.0058164228685200214,\n",
       " 0.07355449348688126,\n",
       " -0.034050341695547104,\n",
       " 0.024886034429073334,\n",
       " 0.01448813360184431,\n",
       " 0.026457529515028,\n",
       " 0.009656793437898159,\n",
       " 0.030217312276363373,\n",
       " 0.05280384048819542,\n",
       " -0.07535988837480545,\n",
       " 0.009897202253341675,\n",
       " 0.029836826026439667,\n",
       " 0.0175554808229208,\n",
       " 0.02309199422597885,\n",
       " 0.0019339736318215728,\n",
       " 0.0014002170646563172,\n",
       " -0.047176096588373184,\n",
       " -0.011194291524589062,\n",
       " -0.11420132964849472,\n",
       " -0.01981191709637642,\n",
       " 0.04026620462536812,\n",
       " 0.002192928921431303,\n",
       " -0.07979219406843185,\n",
       " -0.025382202118635178,\n",
       " 0.09448292851448059,\n",
       " -0.028981028124690056,\n",
       " -0.14500251412391663,\n",
       " 0.230977401137352,\n",
       " 0.027731165289878845,\n",
       " 0.0321115180850029,\n",
       " 0.031064972281455994,\n",
       " 0.04283294081687927,\n",
       " 0.06423775851726532,\n",
       " 0.03216313570737839,\n",
       " -0.004876676481217146,\n",
       " 0.05569939315319061,\n",
       " -0.03753235936164856,\n",
       " -0.0215055700391531,\n",
       " -0.02834252081811428,\n",
       " -0.028846876695752144,\n",
       " 0.0383530855178833,\n",
       " -0.017468668520450592,\n",
       " 0.05248527228832245,\n",
       " -0.07487599551677704,\n",
       " -0.03125983476638794,\n",
       " 0.021841522306203842,\n",
       " -0.0398956798017025,\n",
       " -0.008587167598307133,\n",
       " 0.026956532150506973,\n",
       " -0.048495423048734665,\n",
       " 0.011469791643321514,\n",
       " 0.029618168249726295,\n",
       " -0.020572101697325706,\n",
       " 0.013103900477290154,\n",
       " 0.028833413496613503,\n",
       " -3.1941961460863415e-33,\n",
       " 0.06478206068277359,\n",
       " -0.018130257725715637,\n",
       " 0.0517900176346302,\n",
       " 0.12198280543088913,\n",
       " 0.028780117630958557,\n",
       " 0.008722015656530857,\n",
       " -0.07052123546600342,\n",
       " -0.016907313838601112,\n",
       " 0.0407397486269474,\n",
       " 0.04211617261171341,\n",
       " 0.025447189807891846,\n",
       " 0.03574613854289055,\n",
       " -0.049144819378852844,\n",
       " 0.002129041589796543,\n",
       " -0.015546631999313831,\n",
       " 0.0507306307554245,\n",
       " -0.048185236752033234,\n",
       " 0.035880617797374725,\n",
       " -0.004066962283104658,\n",
       " 0.10172472894191742,\n",
       " -0.05597008764743805,\n",
       " -0.010681021958589554,\n",
       " 0.011235827580094337,\n",
       " 0.09068658202886581,\n",
       " 0.004234437830746174,\n",
       " 0.035138607025146484,\n",
       " -0.009702848270535469,\n",
       " -0.09386526793241501,\n",
       " 0.09285546094179153,\n",
       " 0.008004938252270222,\n",
       " -0.007705474738031626,\n",
       " -0.05208669230341911,\n",
       " -0.01258789375424385,\n",
       " 0.0032670022919774055,\n",
       " 0.00601356104016304,\n",
       " 0.007581562269479036,\n",
       " 0.010517120361328125,\n",
       " -0.08634553849697113,\n",
       " -0.06987884640693665,\n",
       " -0.0025338418781757355,\n",
       " -0.0909765288233757,\n",
       " 0.04688733443617821,\n",
       " 0.05207648500800133,\n",
       " 0.007193910423666239,\n",
       " 0.010903626680374146,\n",
       " -0.005229527130723,\n",
       " 0.013937339186668396,\n",
       " 0.02196827344596386,\n",
       " 0.03420853242278099,\n",
       " 0.06022472307085991,\n",
       " 0.00011673277913359925,\n",
       " 0.014732052572071552,\n",
       " -0.07008921355009079,\n",
       " 0.0284991804510355,\n",
       " -0.02760167047381401,\n",
       " 0.010768357664346695,\n",
       " 0.03483095020055771,\n",
       " -0.022487951442599297,\n",
       " 0.009769033640623093,\n",
       " 0.07722777873277664,\n",
       " 0.02158840373158455,\n",
       " 0.11495622992515564,\n",
       " -0.06800125539302826,\n",
       " 0.02376098930835724,\n",
       " -0.01598402112722397,\n",
       " -0.017826970666646957,\n",
       " 0.06439494341611862,\n",
       " 0.032025787979364395,\n",
       " 0.050270307809114456,\n",
       " -0.005913727451115847,\n",
       " -0.03370803967118263,\n",
       " 0.017840255051851273,\n",
       " 0.016573352739214897,\n",
       " 0.06329652667045593,\n",
       " 0.03467714041471481,\n",
       " 0.04647347331047058,\n",
       " 0.09790607541799545,\n",
       " -0.00663543026894331,\n",
       " 0.025207148864865303,\n",
       " -0.07798841595649719,\n",
       " 0.016926512122154236,\n",
       " -0.0009458729764446616,\n",
       " 0.022471878677606583,\n",
       " -0.03825314715504646,\n",
       " 0.09570465236902237,\n",
       " -0.005350753199309111,\n",
       " 0.010469065979123116,\n",
       " -0.11524049192667007,\n",
       " -0.013262557797133923,\n",
       " -0.010709482245147228,\n",
       " -0.08311734348535538,\n",
       " 0.07327356189489365,\n",
       " 0.04939216002821922,\n",
       " -0.008994304575026035,\n",
       " -0.09584559500217438,\n",
       " 3.366147092382641e-33,\n",
       " 0.12493175268173218,\n",
       " 0.01934981346130371,\n",
       " -0.05822579935193062,\n",
       " -0.03598831593990326,\n",
       " -0.050746653228998184,\n",
       " -0.04566236957907677,\n",
       " -0.08260335773229599,\n",
       " 0.14819474518299103,\n",
       " -0.08842109888792038,\n",
       " 0.06027437373995781,\n",
       " 0.05103031545877457,\n",
       " 0.010303121991455555,\n",
       " 0.14121419191360474,\n",
       " 0.03081386350095272,\n",
       " 0.0610329806804657,\n",
       " -0.052851226180791855,\n",
       " 0.13664893805980682,\n",
       " 0.009189940989017487,\n",
       " -0.017325274646282196,\n",
       " -0.01284866128116846,\n",
       " -0.007995408028364182,\n",
       " -0.05098002031445503,\n",
       " -0.05235055088996887,\n",
       " 0.007593002635985613,\n",
       " -0.01516634225845337,\n",
       " 0.01696031168103218,\n",
       " 0.02127058245241642,\n",
       " 0.020558083429932594,\n",
       " -0.12002813816070557,\n",
       " 0.014461757615208626,\n",
       " 0.026759985834360123,\n",
       " 0.02533067762851715,\n",
       " -0.042754631489515305,\n",
       " 0.006768451072275639,\n",
       " -0.014458537101745605,\n",
       " 0.04526202753186226,\n",
       " -0.09147652238607407,\n",
       " -0.019439060240983963,\n",
       " -0.01783353090286255,\n",
       " -0.054910071194171906,\n",
       " -0.05264100804924965,\n",
       " -0.01045906636863947,\n",
       " -0.05201605334877968,\n",
       " 0.02089202217757702,\n",
       " -0.07997027039527893,\n",
       " -0.012111293151974678,\n",
       " -0.05773140862584114,\n",
       " 0.023178258910775185,\n",
       " -0.008031809702515602,\n",
       " -0.025989463552832603,\n",
       " -0.07995668798685074,\n",
       " -0.020728856325149536,\n",
       " 0.048817604780197144,\n",
       " -0.020389076322317123,\n",
       " -0.04917668551206589,\n",
       " 0.014159747399389744,\n",
       " -0.06362202018499374,\n",
       " -0.007807476446032524,\n",
       " 0.016431625932455063,\n",
       " -0.02568252757191658,\n",
       " 0.01338118501007557,\n",
       " 0.026248808950185776,\n",
       " 0.009978415444493294,\n",
       " 0.06322894245386124,\n",
       " 0.002672104164958,\n",
       " -0.0065827202051877975,\n",
       " 0.01663193851709366,\n",
       " 0.03236634284257889,\n",
       " 0.03794241324067116,\n",
       " -0.036376066505908966,\n",
       " -0.006910939235240221,\n",
       " 0.00015967461513355374,\n",
       " -0.001633501728065312,\n",
       " -0.02727818861603737,\n",
       " -0.02803812548518181,\n",
       " 0.04968143254518509,\n",
       " -0.02886725217103958,\n",
       " -0.0024181189946830273,\n",
       " 0.01477501168847084,\n",
       " 0.009764603339135647,\n",
       " 0.005797557067126036,\n",
       " 0.013486181385815144,\n",
       " 0.005567832849919796,\n",
       " 0.03722711652517319,\n",
       " 0.007232369389384985,\n",
       " 0.040156181901693344,\n",
       " 0.08150328695774078,\n",
       " 0.07199167460203171,\n",
       " -0.013056148774921894,\n",
       " -0.04288206622004509,\n",
       " -0.011011257767677307,\n",
       " 0.00489780493080616,\n",
       " -0.009229641407728195,\n",
       " 0.03519146516919136,\n",
       " -0.051035042852163315,\n",
       " -1.571437735492509e-08,\n",
       " -0.08862439543008804,\n",
       " 0.023909300565719604,\n",
       " -0.016238678246736526,\n",
       " 0.031700555235147476,\n",
       " 0.027284251525998116,\n",
       " 0.05246878042817116,\n",
       " -0.04707089811563492,\n",
       " -0.05884751304984093,\n",
       " -0.06320817023515701,\n",
       " 0.04088856279850006,\n",
       " 0.04982795566320419,\n",
       " 0.10655172914266586,\n",
       " -0.07450234144926071,\n",
       " -0.012495559640228748,\n",
       " 0.018370626494288445,\n",
       " 0.039474066346883774,\n",
       " -0.024797942489385605,\n",
       " 0.014516377821564674,\n",
       " -0.037069182842969894,\n",
       " 0.02001563273370266,\n",
       " -4.852666461374611e-05,\n",
       " 0.009866638109087944,\n",
       " 0.024838795885443687,\n",
       " -0.05245799198746681,\n",
       " 0.029314160346984863,\n",
       " -0.08719196170568466,\n",
       " -0.014499632641673088,\n",
       " 0.026019137352705002,\n",
       " -0.018746431916952133,\n",
       " -0.07620511204004288,\n",
       " 0.03504325821995735,\n",
       " 0.10363944619894028,\n",
       " -0.02805059403181076,\n",
       " 0.012718201614916325,\n",
       " -0.07632549852132797,\n",
       " -0.01865237206220627,\n",
       " 0.024976804852485657,\n",
       " 0.08144529163837433,\n",
       " 0.06875893473625183,\n",
       " -0.06405658274888992,\n",
       " -0.08389391750097275,\n",
       " 0.06136232614517212,\n",
       " -0.03354557976126671,\n",
       " -0.10615333169698715,\n",
       " -0.040080588310956955,\n",
       " 0.03253013268113136,\n",
       " 0.07662489265203476,\n",
       " -0.0730162039399147,\n",
       " 0.0003376359527464956,\n",
       " -0.040871553122997284,\n",
       " -0.0757884606719017,\n",
       " 0.027527688071131706,\n",
       " 0.0746253952383995,\n",
       " 0.017717404291033745,\n",
       " 0.09121847152709961,\n",
       " 0.11022014170885086,\n",
       " 0.0005698850727640092,\n",
       " 0.05146332457661629,\n",
       " -0.014551286585628986,\n",
       " 0.03323189914226532,\n",
       " 0.02379228174686432,\n",
       " -0.02288980595767498,\n",
       " 0.0389375202357769,\n",
       " 0.03020687773823738]"
      ]
     },
     "execution_count": 20,
     "metadata": {},
     "output_type": "execute_result"
    }
   ],
   "source": [
    "query_result"
   ]
  },
  {
   "cell_type": "code",
   "execution_count": 21,
   "metadata": {},
   "outputs": [
    {
     "name": "stdout",
     "output_type": "stream",
     "text": [
      "Length 384\n"
     ]
    }
   ],
   "source": [
    "print(\"Length\", len(query_result))"
   ]
  },
  {
   "cell_type": "markdown",
   "metadata": {},
   "source": [
    "# Initializing the Pinecone"
   ]
  },
  {
   "cell_type": "code",
   "execution_count": 27,
   "metadata": {},
   "outputs": [],
   "source": [
    "import os"
   ]
  },
  {
   "cell_type": "code",
   "execution_count": 28,
   "metadata": {},
   "outputs": [
    {
     "data": {
      "text/plain": [
       "True"
      ]
     },
     "execution_count": 28,
     "metadata": {},
     "output_type": "execute_result"
    }
   ],
   "source": [
    "from dotenv import load_dotenv\n",
    "load_dotenv()"
   ]
  },
  {
   "cell_type": "code",
   "execution_count": 45,
   "metadata": {},
   "outputs": [
    {
     "name": "stderr",
     "output_type": "stream",
     "text": [
      "huggingface/tokenizers: The current process just got forked, after parallelism has already been used. Disabling parallelism to avoid deadlocks...\n",
      "To disable this warning, you can either:\n",
      "\t- Avoid using `tokenizers` before the fork if possible\n",
      "\t- Explicitly set the environment variable TOKENIZERS_PARALLELISM=(true | false)\n"
     ]
    },
    {
     "name": "stdout",
     "output_type": "stream",
     "text": [
      "Requirement already satisfied: pinecone-client in ./langc/lib/python3.9/site-packages (2.2.4)\n",
      "Requirement already satisfied: requests>=2.19.0 in ./langc/lib/python3.9/site-packages (from pinecone-client) (2.32.3)\n",
      "Requirement already satisfied: pyyaml>=5.4 in ./langc/lib/python3.9/site-packages (from pinecone-client) (6.0.2)\n",
      "Requirement already satisfied: loguru>=0.5.0 in ./langc/lib/python3.9/site-packages (from pinecone-client) (0.7.2)\n",
      "Requirement already satisfied: typing-extensions>=3.7.4 in ./langc/lib/python3.9/site-packages (from pinecone-client) (4.11.0)\n",
      "Requirement already satisfied: dnspython>=2.0.0 in ./langc/lib/python3.9/site-packages (from pinecone-client) (2.6.1)\n",
      "Requirement already satisfied: python-dateutil>=2.5.3 in ./langc/lib/python3.9/site-packages (from pinecone-client) (2.9.0.post0)\n",
      "Requirement already satisfied: urllib3>=1.21.1 in ./langc/lib/python3.9/site-packages (from pinecone-client) (2.2.2)\n",
      "Requirement already satisfied: tqdm>=4.64.1 in ./langc/lib/python3.9/site-packages (from pinecone-client) (4.66.5)\n",
      "Requirement already satisfied: numpy>=1.22.0 in ./langc/lib/python3.9/site-packages (from pinecone-client) (1.26.4)\n",
      "Requirement already satisfied: six>=1.5 in ./langc/lib/python3.9/site-packages (from python-dateutil>=2.5.3->pinecone-client) (1.16.0)\n",
      "Requirement already satisfied: charset-normalizer<4,>=2 in ./langc/lib/python3.9/site-packages (from requests>=2.19.0->pinecone-client) (3.3.2)\n",
      "Requirement already satisfied: idna<4,>=2.5 in ./langc/lib/python3.9/site-packages (from requests>=2.19.0->pinecone-client) (3.7)\n",
      "Requirement already satisfied: certifi>=2017.4.17 in ./langc/lib/python3.9/site-packages (from requests>=2.19.0->pinecone-client) (2024.7.4)\n"
     ]
    }
   ],
   "source": [
    "# !pip install pinecone-client"
   ]
  },
  {
   "cell_type": "code",
   "execution_count": 47,
   "metadata": {},
   "outputs": [],
   "source": [
    "from pinecone import Pinecone\n",
    "\n",
    "pc = Pinecone(PINECONE_API_KEY)\n",
    "index = pc.Index(\"quickstart\")"
   ]
  },
  {
   "cell_type": "code",
   "execution_count": 48,
   "metadata": {},
   "outputs": [],
   "source": [
    "import pinecone\n",
    "# initialize pinecone\n",
    "pinecone.init(\n",
    "    api_key=PINECONE_API_KEY,  # find at app.pinecone.io\n",
    "    environment=PINECONE_API_ENV  # next to api key in console\n",
    ")\n",
    "index_name = \"test\" # put in the name of your pinecone index here"
   ]
  },
  {
   "cell_type": "code",
   "execution_count": 44,
   "metadata": {},
   "outputs": [],
   "source": [
    "from langchain.vectorstores import Pinecone"
   ]
  },
  {
   "cell_type": "code",
   "execution_count": 49,
   "metadata": {},
   "outputs": [],
   "source": [
    "docsearch = Pinecone.from_texts([t.page_content for t in text_chunks], embeddings, index_name=index_name)"
   ]
  },
  {
   "cell_type": "code",
   "execution_count": 50,
   "metadata": {},
   "outputs": [],
   "source": [
    "docsearch = Pinecone.from_existing_index(index_name, embeddings)\n",
    "docsearch"
   ]
  },
  {
   "cell_type": "code",
   "execution_count": 35,
   "metadata": {},
   "outputs": [],
   "source": [
    "query = \"What is yolo?\""
   ]
  },
  {
   "cell_type": "code",
   "execution_count": 53,
   "metadata": {},
   "outputs": [],
   "source": [
    "docs = docsearch.similarity_search(query, k=3)"
   ]
  },
  {
   "cell_type": "code",
   "execution_count": 54,
   "metadata": {},
   "outputs": [],
   "source": [
    "docs"
   ]
  },
  {
   "cell_type": "code",
   "execution_count": 55,
   "metadata": {},
   "outputs": [],
   "source": [
    "len(docs)"
   ]
  },
  {
   "cell_type": "code",
   "execution_count": null,
   "metadata": {},
   "outputs": [],
   "source": []
  }
 ],
 "metadata": {
  "kernelspec": {
   "display_name": "Python 3",
   "language": "python",
   "name": "python3"
  },
  "language_info": {
   "codemirror_mode": {
    "name": "ipython",
    "version": 3
   },
   "file_extension": ".py",
   "mimetype": "text/x-python",
   "name": "python",
   "nbconvert_exporter": "python",
   "pygments_lexer": "ipython3",
   "version": "3.9.19"
  }
 },
 "nbformat": 4,
 "nbformat_minor": 2
}
